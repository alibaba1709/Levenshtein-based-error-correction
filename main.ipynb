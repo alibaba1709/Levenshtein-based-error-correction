{
 "cells": [
  {
   "cell_type": "markdown",
   "id": "6295360d-48b8-458e-8b87-fb1430bb7dd8",
   "metadata": {},
   "source": [
    "Description: \n",
    "- Read data from a file about career aspirations.\n",
    "- Correct the spelling mistakes and print the corrected data.\n",
    "- Plot the career aspirations using a bar graph."
   ]
  },
  {
   "cell_type": "code",
   "execution_count": 19,
   "id": "542fc3d3-cd9f-45c8-a6e9-6f8cf50a390f",
   "metadata": {},
   "outputs": [],
   "source": [
    "#importing necessary libraries\n",
    "import pandas as pd\n",
    "import matplotlib.pyplot as plt"
   ]
  },
  {
   "cell_type": "markdown",
   "id": "6f3f0fba-fd88-4768-8ae4-b558984590ed",
   "metadata": {},
   "source": [
    "We will proceed using Levenshtein distance method.\n",
    "First let us create a function for calculating Levenschtein distance between two strings.\n",
    "This can be done either by iteration or recursion.I have used iteration.\n",
    "Here is a breakdown of the code:\n",
    "- len1 and len2 store the lengths of word1 and word2 respectively.\n",
    "- dp is a 2D list initialized with zeros, where dp[i][j] represents the Levenshtein distance between the first i characters of word1 and the first j    characters of word2.\n",
    "- The nested loop iterates over all possible pairs of indices (i, j) within the bounds of len1 and len2.\n",
    "- The base cases are handled first:\n",
    "  - If i (representing the length of word1) is 0, the distance is j (since we need to insert j characters into an empty string to make it word2).\n",
    "  - If j (representing the length of word2) is 0, the distance is i (similarly, we need to delete i characters from word1 to make it an empty string).\n",
    "- For other cases, if the characters at word1[i - 1] and word2[j - 1] are the same, no operation is needed, and the distance remains the same as for    the previous substrings (dp[i - 1][j - 1]).\n",
    "  If the characters are different, we consider three possible operations:\n",
    "   - Deletion: dp[i - 1][j] + 1\n",
    "   - Insertion: dp[i][j - 1] + 1\n",
    "   - Substitution: dp[i - 1][j - 1] + 1\n",
    "  We take the minimum of these three values and store it in dp[i][j].\n",
    "- Finally, we return dp[len1][len2], which represents the Levenshtein distance between the entire word1 and word2.\n"
   ]
  },
  {
   "cell_type": "code",
   "execution_count": 20,
   "id": "e3340c50-b366-4228-86cc-3aa7e0decebe",
   "metadata": {},
   "outputs": [],
   "source": [
    "# Function to calculate Levenshtein distance between two words\n",
    "def levenshtein_distance(word1, word2):\n",
    "    len1, len2 = len(word1), len(word2)\n",
    "    dp = [[0] * (len2 + 1) for _ in range(len1 + 1)]\n",
    "\n",
    "    for i in range(len1 + 1):\n",
    "        for j in range(len2 + 1):\n",
    "            if i == 0:\n",
    "                dp[i][j] = j\n",
    "            elif j == 0:\n",
    "                dp[i][j] = i\n",
    "            elif word1[i - 1] == word2[j - 1]:\n",
    "                dp[i][j] = dp[i - 1][j - 1]\n",
    "            else:\n",
    "                dp[i][j] = 1 + min(dp[i - 1][j], dp[i][j - 1], dp[i - 1][j - 1])\n",
    "\n",
    "    return dp[len1][len2]"
   ]
  },
  {
   "cell_type": "markdown",
   "id": "4a350a70-f2d6-4ab2-acf4-7f8132217be9",
   "metadata": {},
   "source": [
    "Now let us create a function which calculates Levenschtein distance of the given word from all possible career options and returns the career option which is the nearest.\n",
    "The word and career options are converted into lower case using lower()."
   ]
  },
  {
   "cell_type": "code",
   "execution_count": 21,
   "id": "ceb17dc3-5fd1-4f20-bd7c-686a53a47c85",
   "metadata": {},
   "outputs": [],
   "source": [
    "# Function to correct spelling mistakes in career options\n",
    "def correct_spelling(word, career_options):\n",
    "    word = word.lower()\n",
    "    career_options = [option.lower() for option in career_options]\n",
    "    min_distance = float('inf')\n",
    "    correct_word = \"\"\n",
    "    \n",
    "    for option in career_options:\n",
    "        distance = levenshtein_distance(word, option)\n",
    "        if distance < min_distance:\n",
    "            min_distance = distance\n",
    "            correct_word = option\n",
    "            \n",
    "    return correct_word.capitalize()"
   ]
  },
  {
   "cell_type": "markdown",
   "id": "b999c71b-e017-4c44-b109-1ffcae12d53d",
   "metadata": {},
   "source": [
    "Now for making a bar graph, we will make use of matplotlib library.\n",
    "The plot_career_aspirations function takes the corrected career aspirations, counts the frequency of each career option, and plots a bar chart showing the distribution of these aspirations. The chart is customized with axis labels, a title, rotated x-axis labels for better readability, and adjusted layout to ensure everything fits well. The bars are colored orange for better visual distinction."
   ]
  },
  {
   "cell_type": "code",
   "execution_count": 22,
   "id": "90e13950-3781-4290-94c5-0f8971058692",
   "metadata": {},
   "outputs": [],
   "source": [
    "def plot_career_aspirations(corrected_responses, career_options):\n",
    "    # Count the frequency of each career option\n",
    "    career_counts = {career: corrected_responses.count(career) for career in career_options}\n",
    "\n",
    "    # Plotting\n",
    "    plt.figure(figsize=(10, 6))\n",
    "    plt.bar(career_counts.keys(), career_counts.values(), color='orange')\n",
    "    plt.xlabel('Career Options')\n",
    "    plt.ylabel('Frequency')\n",
    "    plt.title('Career Aspirations of Students')\n",
    "    plt.xticks(rotation=45)\n",
    "    plt.tight_layout()\n",
    "    plt.show()"
   ]
  },
  {
   "cell_type": "code",
   "execution_count": 23,
   "id": "a3c1996b-3dd1-40fb-a5aa-7c320c4bbe15",
   "metadata": {},
   "outputs": [],
   "source": [
    "#Creating a list of career options\n",
    "career_options = [\"Doctor\", \"Lawyer\", \"Teacher\", \"Engineer\", \"Accountant\", \n",
    "                  \"Nurse\", \"Police\", \"Architect\", \"Dentist\", \"Pharmacist\"]\n"
   ]
  },
  {
   "cell_type": "markdown",
   "id": "b8902a35-b5b1-40ea-b51d-4974ad2bac4c",
   "metadata": {},
   "source": [
    "Now let us read the data from the csv file and store it as a data frame."
   ]
  },
  {
   "cell_type": "code",
   "execution_count": null,
   "id": "68d09785-c116-4744-9040-6516d688a3fd",
   "metadata": {},
   "outputs": [],
   "source": [
    "input_data_file=\"career choices.csv\"\n",
    "data_frame_excel = pd.read_csv(input_data_file, header=None)"
   ]
  },
  {
   "cell_type": "markdown",
   "id": "81cebda6-a2ae-48af-ac01-64fca14b96e7",
   "metadata": {},
   "source": [
    "Now let us create a list from the data frame."
   ]
  },
  {
   "cell_type": "code",
   "execution_count": 25,
   "id": "0021fe97-841b-4a44-94cf-bca8a32f233a",
   "metadata": {},
   "outputs": [],
   "source": [
    "# Since the misspelled career options are in the first column\n",
    "responses_list = data_frame_excel.iloc[:, 0].tolist()"
   ]
  },
  {
   "cell_type": "markdown",
   "id": "7b6ced6a-bf47-42a5-b311-177c6d09bd06",
   "metadata": {},
   "source": [
    "Now we will create a list of corrected responses using the correct_spelling function and print the corrected list."
   ]
  },
  {
   "cell_type": "code",
   "execution_count": 26,
   "id": "fe85242a-a33b-477a-9a6f-73b898b6293f",
   "metadata": {},
   "outputs": [],
   "source": [
    "corrected_responses = [correct_spelling(response, career_options) for response in responses_list]\n"
   ]
  },
  {
   "cell_type": "markdown",
   "id": "d05bbb2e-1939-401c-b983-322b5ea6f13e",
   "metadata": {},
   "source": [
    "Finally we will plot the bar graph using this list."
   ]
  },
  {
   "cell_type": "code",
   "execution_count": null,
   "id": "0f586a91-325b-42a8-99e1-9bd22c08bf7f",
   "metadata": {},
   "outputs": [],
   "source": [
    "plot_career_aspirations(corrected_responses, career_options)"
   ]
  },
  {
   "cell_type": "code",
   "execution_count": null,
   "id": "b6d43321-b9cd-4b6c-a06a-0652fde9fe00",
   "metadata": {},
   "outputs": [],
   "source": []
  }
 ],
 "metadata": {
  "kernelspec": {
   "display_name": "base",
   "language": "python",
   "name": "python3"
  },
  "language_info": {
   "codemirror_mode": {
    "name": "ipython",
    "version": 3
   },
   "file_extension": ".py",
   "mimetype": "text/x-python",
   "name": "python",
   "nbconvert_exporter": "python",
   "pygments_lexer": "ipython3",
   "version": "3.11.7"
  }
 },
 "nbformat": 4,
 "nbformat_minor": 5
}
